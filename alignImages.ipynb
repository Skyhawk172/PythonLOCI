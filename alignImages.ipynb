{
 "metadata": {
  "name": "",
  "signature": "sha256:b33310684f91cb99e0b230d5f50da926fad62159a97181379a45d8b0f40c9c81"
 },
 "nbformat": 3,
 "nbformat_minor": 0,
 "worksheets": [
  {
   "cells": [
    {
     "cell_type": "code",
     "collapsed": false,
     "input": [
      "%reset"
     ],
     "language": "python",
     "metadata": {},
     "outputs": [
      {
       "name": "stdout",
       "output_type": "stream",
       "stream": "stdout",
       "text": [
        "Once deleted, variables cannot be recovered. Proceed (y/[n])? y\n"
       ]
      }
     ],
     "prompt_number": 77
    },
    {
     "cell_type": "code",
     "collapsed": false,
     "input": [
      "%matplotlib inline\n",
      "\n",
      "import numpy as np\n",
      "import matplotlib.pyplot as P\n",
      "import pyfits, glob, os\n",
      "import scipy.interpolate as scint\n",
      "import scipy.optimize as scopt\n",
      "import time, sys\n",
      "\n",
      "#import IPython\n",
      "#IPython.__version__\n",
      "#sys.version_info"
     ],
     "language": "python",
     "metadata": {},
     "outputs": [],
     "prompt_number": 91
    },
    {
     "cell_type": "code",
     "collapsed": false,
     "input": [
      "def imshow(ifig,img):\n",
      "    P.figure(ifig)\n",
      "    mid=img.shape[0]/2\n",
      "    P.imshow(img)#, cmap=P.cm.Greys_r) \n",
      "    cbar = P.colorbar()\n",
      "    P.show()"
     ],
     "language": "python",
     "metadata": {},
     "outputs": [],
     "prompt_number": 92
    },
    {
     "cell_type": "code",
     "collapsed": false,
     "input": [
      "def makeHeader(hdr, directory, instr, target, references, LOCIargs ):\n",
      "    hdr.add_history(directory+instr)\n",
      "    hdr.add_history(target[0])\n",
      "    for iref in references:\n",
      "        hdr.add_history(iref)\n",
      "        \n",
      "    for key, value in LOCIargs.iteritems():\n",
      "        hdr.add_history(key+\"=\"+str(value))\n",
      "\n",
      "    return hdr"
     ],
     "language": "python",
     "metadata": {},
     "outputs": [],
     "prompt_number": 209
    },
    {
     "cell_type": "heading",
     "level": 1,
     "metadata": {},
     "source": [
      "ALIGNING IMAGES:"
     ]
    },
    {
     "cell_type": "code",
     "collapsed": false,
     "input": [
      "def interpolate(c,dim,tar,interp1,interp2):\n",
      "    x = np.arange(0,dim)\n",
      "    y = np.arange(0,dim)\n",
      "    ref=np.zeros( [dim,dim] )\n",
      "    mas=np.zeros( [dim,dim] )\n",
      " \n",
      "    # Much faster than double FOR loop below:\n",
      "    mas = interp2(y-c[0], x-c[1])\n",
      "    ref = c[2]*interp1(y-c[0], x-c[1])\n",
      "\n",
      "    return np.log10( np.sum( ((ref-tar)*mas)**2 ) )"
     ],
     "language": "python",
     "metadata": {},
     "outputs": [],
     "prompt_number": 93
    },
    {
     "cell_type": "code",
     "collapsed": false,
     "input": [
      "def align_images(dim,radius,reference,target):\n",
      "    mask = np.ones( [dim,dim] )\n",
      "    x    = np.arange(0,dim)\n",
      "    y    = np.arange(0,dim)\n",
      "    xmid = dim/2 \n",
      "    ymid = dim/2     \n",
      "    \n",
      "    #binary mask centered on (xmid, ymid): 0 within \"radius\", 1 outside\n",
      "    mask = np.array([ [0. if (np.sqrt( (i-xmid)**2 + (j-ymid)**2) < radius) else 1. for i in xrange(dim)] for j in xrange(dim)])\n",
      "\n",
      "    alpha = 0.0\n",
      "    beta  = 0.0\n",
      "    nu    = 1.00\n",
      "    guess = [alpha,beta,nu]\n",
      "\n",
      "    interp_ref  = scint.RectBivariateSpline(x, y, reference, kx=3, ky=3)\n",
      "    interp_mask = scint.RectBivariateSpline(x, y, mask, kx=1, ky=1)\n",
      "   \n",
      "    results = scopt.minimize(interpolate, guess, args=(dim,target,interp_ref,interp_mask), tol=1e-5)\n",
      "    print \"   alpha=%8.6f  beta=%8.6f  nu= %8.6f\" %(results.x[0],results.x[1],results.x[2])\n",
      "\n",
      "    # Much faster than previous double FOR loop:\n",
      "    ref_aligned = results.x[2] * interp_ref(y-results.x[0], x-results.x[1])\n",
      "\n",
      "    return ref_aligned"
     ],
     "language": "python",
     "metadata": {},
     "outputs": [],
     "prompt_number": 94
    },
    {
     "cell_type": "code",
     "collapsed": false,
     "input": [
      "#directory = \"/Users/lajoie/Documents/Work/Projects/JWST/Simulations/Coronagraphs/MIRI/Dither-LOCI/Results/\"\n",
      "#instrument= \"MIRI/F1065C/DitherStep20/GaussianJitter7/T7430.0_logg4.35_z-0.47_R1.34_D40.0_t10000.0_204nm\"\n",
      "#instrument= \"NIRCam/F430M-MASK430R/DitherStep20/Jitter7/T7430.0_logg4.35_z-0.47_R1.34_D40.0_t10000.0_136nm\"\n",
      "\n",
      "directory = \"/Users/lajoie/Documents/Work/Projects/JWST/CWG/SGD/Results/\"\n",
      "instrument= \"MIRI/F1065C/DitherStep20/Jitter0/rms204nm\"\n",
      "\n",
      "runNumber = 10\n",
      "\n",
      "if instrument.split(\"/\")[0] ==\"MIRI\":\n",
      "    sizeImg  = 64\n",
      "    radius   = 25\n",
      "    pixelSize= 0.11 #arcseconds\n",
      "elif instrument.split(\"/\")[0] ==\"NIRCam\":\n",
      "    if \"F210\" in instrument.split(\"/\")[1]:\n",
      "        print \"NIRCam Short Wavelength\"\n",
      "        sizeImg  = 222 \n",
      "        radius   = 70 \n",
      "        pixelSize= 0.032 #0.065 #arcseconds\n",
      "    else:\n",
      "        print \"NIRCam Long Wavelength\"\n",
      "        sizeImg  = 109 \n",
      "        radius   = 25 \n",
      "        pixelSize= 0.065 #arcseconds\n",
      "\n",
      "os.chdir(directory+instrument)\n",
      "targetfile=glob.glob(\"*run\"+str(runNumber)+\"_\"+\"*ScienceTarget*\"+\"*.fits\")\n",
      "\n",
      "hdu=pyfits.open(targetfile[0])\n",
      "target=hdu[0].data\n",
      "\n",
      "reffile=glob.glob(\"*run\"+str(runNumber)+\"_\"+\"*dither*.fits\")\n",
      "nimages=len(reffile)\n",
      "\n",
      "refs=np.zeros( (nimages,sizeImg,sizeImg) )\n",
      "refs_aligned=np.zeros( (nimages,sizeImg,sizeImg) )\n",
      "for i in xrange(nimages):\n",
      "    print i+1, reffile[i]\n",
      "    hdu=pyfits.open(reffile[i])\n",
      "    refs[i]=hdu[0].data\n",
      "    refs_aligned[i]=align_images(sizeImg,radius,refs[i],target)\n",
      "    \n",
      "    \n",
      "hdu = pyfits.PrimaryHDU(refs)\n",
      "hdu.writeto('/Users/lajoie/Documents/Work/Projects/JWST/CWG/LOCI/references.fits',clobber=True)\n",
      "\n",
      "hdu = pyfits.PrimaryHDU(refs_aligned)\n",
      "hdu.writeto('/Users/lajoie/Documents/Work/Projects/JWST/CWG/LOCI/refs_aligned.fits',clobber=True)\n",
      "\n",
      "#for i in  xrange(nimages):\n",
      "#    P.imshow(refs[i])\n",
      "#    P.show()"
     ],
     "language": "python",
     "metadata": {},
     "outputs": [
      {
       "output_type": "stream",
       "stream": "stdout",
       "text": [
        "1 PSF_1065_run10_Reference_dither1_204.fits\n",
        "   alpha=0.169581  beta=0.616560  nu= 0.934954"
       ]
      },
      {
       "output_type": "stream",
       "stream": "stdout",
       "text": [
        "\n",
        "2 PSF_1065_run10_Reference_dither2_204.fits\n",
        "   alpha=0.022989  beta=0.661026  nu= 0.935075"
       ]
      },
      {
       "output_type": "stream",
       "stream": "stdout",
       "text": [
        "\n",
        "3 PSF_1065_run10_Reference_dither3_204.fits\n",
        "   alpha=-0.123842  beta=0.686132  nu= 0.918843"
       ]
      },
      {
       "output_type": "stream",
       "stream": "stdout",
       "text": [
        "\n",
        "4 PSF_1065_run10_Reference_dither4_204.fits\n",
        "   alpha=-0.117494  beta=0.298558  nu= 0.999654"
       ]
      },
      {
       "output_type": "stream",
       "stream": "stdout",
       "text": [
        "\n",
        "5 PSF_1065_run10_Reference_dither5_204.fits\n",
        "   alpha=0.012483  beta=0.272574  nu= 1.010500"
       ]
      },
      {
       "output_type": "stream",
       "stream": "stdout",
       "text": [
        "\n",
        "6 PSF_1065_run10_Reference_dither6_204.fits\n",
        "   alpha=0.139532  beta=0.303375  nu= 0.995562"
       ]
      },
      {
       "output_type": "stream",
       "stream": "stdout",
       "text": [
        "\n",
        "7 PSF_1065_run10_Reference_dither7_204.fits\n",
        "   alpha=0.155129  beta=-0.082527  nu= 0.972941"
       ]
      },
      {
       "output_type": "stream",
       "stream": "stdout",
       "text": [
        "\n",
        "8 PSF_1065_run10_Reference_dither8_204.fits\n",
        "   alpha=0.020947  beta=-0.087742  nu= 0.982218"
       ]
      },
      {
       "output_type": "stream",
       "stream": "stdout",
       "text": [
        "\n",
        "9 PSF_1065_run10_Reference_dither9_204.fits\n",
        "   alpha=-0.148594  beta=-0.076861  nu= 0.966378"
       ]
      },
      {
       "output_type": "stream",
       "stream": "stdout",
       "text": [
        "\n"
       ]
      }
     ],
     "prompt_number": 174
    },
    {
     "cell_type": "heading",
     "level": 1,
     "metadata": {},
     "source": [
      "LOCI ALGORITHM"
     ]
    },
    {
     "cell_type": "code",
     "collapsed": false,
     "input": [
      "g  = 1.75\n",
      "NA = 400\n",
      "dr = 1.25\n",
      "CriterionNumber = np.inf\n",
      "Mu= 0.0 \n",
      "W = (10.*10**-6)/6.5 * 180./np.pi * 3600./pixelSize\n",
      "rstart = 0.5\n",
      "rend = sizeImg/2. #30\n",
      "RegNum = 10**-9\n",
      "radialShiftBetweenSandO = 0.0\n",
      "\n",
      "args = {\"g\":g, \"NA\":NA, \"dr\":dr, \"Criterion\":CriterionNumber, \"Mu\":Mu, \"W\":W, \n",
      "        \"Rstart\":rstart, \"Rend\":rend, \"RegNum\":RegNum, \"RadialShift\":radialShiftBetweenSandO}"
     ],
     "language": "python",
     "metadata": {},
     "outputs": [],
     "prompt_number": 199
    },
    {
     "cell_type": "code",
     "collapsed": false,
     "input": [
      "def MakePolarCoordinates(TargetImage): \n",
      "    npix = len(TargetImage)\n",
      "    x = np.linspace(-npix/2, npix/2-1, npix)\n",
      "    y = np.linspace(-npix/2, npix/2-1, npix)\n",
      "    xv, yv = np.meshgrid(x, y)\n",
      "  \n",
      "    Rhos  = np.sqrt(xv**2 + yv**2)\n",
      "    Thetas= np.arctan2(yv,xv)\n",
      "    Thetas[Thetas<0]+=2*np.pi\n",
      "    Thetas= np.nan_to_num(Thetas)\n",
      "    \n",
      "    return Rhos, np.transpose(Thetas)"
     ],
     "language": "python",
     "metadata": {},
     "outputs": [],
     "prompt_number": 176
    },
    {
     "cell_type": "code",
     "collapsed": false,
     "input": [
      "# THIS IS A LITTERAL TRANSLATION FROM REMI'S MATHEMATICA CODE\n",
      "# WITH SOME OPTIMIZATION (RUNS MUCH FASTER):\n",
      "def LOCI(Target, Reference, rin, dr, Deltar, Thetamin, DeltaPhi, radialShiftBetweenSandO, Rhos, Thetas, RegNum, CriterionNumber, Mu):\n",
      "    RhosFlat   = np.ndarray.flatten(Rhos)\n",
      "    ThetasFlat = np.ndarray.flatten(Thetas)\n",
      "    OzoneShape = np.zeros( (len(Target),len(Target) ))\n",
      "    DropOnesList = []\n",
      "    ChiSquareValues = []\n",
      "    ReferenceFlat = []\n",
      "\n",
      "    # FIRST, FIND OVERLAPPING REGIONS IN RHO AND THETA:\n",
      "    \n",
      "    #THIS IS MUCH MUCH FASTER THAN BEFORE (I.E. ELEMENT-BY-ELEMENT):\n",
      "    idx1 = np.where( (Rhos>=rin) & (Rhos<(rin+dr)) ) \n",
      "    idx2 = np.where( (Thetas>=Thetamin) & (Thetas<(Thetamin + DeltaPhi)) )\n",
      "    img=np.zeros( (sizeImg,sizeImg) )\n",
      "    img[idx1]=1\n",
      "    img[idx2]+=1\n",
      "    Scoords = np.argwhere(img==2)\n",
      "\n",
      "    #THIS IS MUCH MUCH FASTER THAN BEFORE (I.E. ELEMENT-BY-ELEMENT):\n",
      "    idx1 = np.where( (Rhos>=rin + radialShiftBetweenSandO) & (Rhos<rin + radialShiftBetweenSandO + Deltar))\n",
      "    idx2 = np.where( (Thetas>=Thetamin) & (Thetas< Thetamin + DeltaPhi)) \n",
      "    img=np.zeros( (sizeImg,sizeImg) )\n",
      "    img[idx1]=1\n",
      "    img[idx2]+=1\n",
      "    Ocoords = np.argwhere(img==2)\n",
      "    \n",
      "    \n",
      "    for i in xrange(len(Ocoords)):\n",
      "        OzoneShape[Ocoords[i,0],Ocoords[i,1]]=1           \n",
      "    Ocoords = np.transpose(np.where(OzoneShape==1))\n",
      "    OT = Target[Ocoords[:,0],Ocoords[:,1]]\n",
      "    ST = Target[Scoords[:,0],Scoords[:,1]]  \n",
      "\n",
      "    \n",
      "    for k in xrange(len(Reference)):\n",
      "        OR = Reference[k][Ocoords[:,0],Ocoords[:,1]]\n",
      "        ChiSquared = np.sum((OT - OR)**2)\n",
      "        ChiSquareValues.append(ChiSquared)\n",
      "        \n",
      "    for k in xrange(len(Reference)):        \n",
      "        if ChiSquareValues[k] > CriterionNumber*np.median(ChiSquareValues):\n",
      "            DropOnesList.append(k)\n",
      "    ReferenceFinal = np.delete(Reference, DropOnesList, axis=0)\n",
      "\n",
      "    \n",
      "    for k in xrange(len(ReferenceFinal)):\n",
      "        ReferenceFlat.append(  np.ndarray.flatten(ReferenceFinal[k])  )    \n",
      "    ReferenceFlat = np.transpose( np.asarray(ReferenceFlat) )\n",
      "    \n",
      "    #THIS IS MUCH MUCH FASTER THAN BEFORE (I.E. ELEMENT-BY-ELEMENT):\n",
      "    idx1= np.where( (RhosFlat>=rin) & (RhosFlat<rin+dr))   \n",
      "    idx2= np.where( (ThetasFlat>=Thetamin) & (ThetasFlat< Thetamin + DeltaPhi))\n",
      "    img=np.zeros( (sizeImg*sizeImg) )\n",
      "    img[idx1]=1\n",
      "    img[idx2]+=1\n",
      "    ScoordsFlat = np.argwhere(img==2)\n",
      "    OcoordsFlat = ( np.transpose(np.where(np.ndarray.flatten(OzoneShape==1))) )\n",
      "\n",
      "    # THIS IS THE ACTUAL LOCI MATRIX ALGORITHM:\n",
      "    OMatrix = ReferenceFlat[OcoordsFlat[:,0]]\n",
      "    SMatrix = ReferenceFlat[ScoordsFlat[:,0]]\n",
      "    \n",
      "    AMatrix = np.dot(np.transpose(OMatrix),OMatrix) - Mu*np.dot( np.transpose(SMatrix),SMatrix)\n",
      "    bvector = np.ndarray.flatten( np.dot( np.transpose(OMatrix),OT) - Mu*np.dot( np.transpose(SMatrix),ST) )\n",
      "    \n",
      "    ConditionNumber = np.ndarray.max(np.real(np.linalg.eigvals(AMatrix) ) ) / np.ndarray.min( np.real( np.linalg.eigvals(AMatrix) ) )\n",
      "    try: Cks = np.dot( np.linalg.inv(AMatrix), bvector )\n",
      "    except: \n",
      "        print \"crap\"\n",
      "        Cks = np.dot( np.linalg.inv( AMatrix + np.ndarray.max(np.real(np.linalg.eigvals(AMatrix)))*np.identity(len(AMatrix)) ), bvector)\n",
      "\n",
      "    SR = np.dot( SMatrix,Cks )\n",
      "    SI = np.transpose(ST - SR)\n",
      "    \n",
      "    return SI, Scoords"
     ],
     "language": "python",
     "metadata": {},
     "outputs": [],
     "prompt_number": 177
    },
    {
     "cell_type": "code",
     "collapsed": false,
     "input": [
      "# THIS IS A LITTERAL TRANSLATION FROM REMI'S MATHEMATICA CODE:\n",
      "def ApplyLOCI(Target,Reference, g, W, NA, dr,rstart, rend, radialShiftBetweenSandO, RegNum,CriterionNumber, Mu): \n",
      "    LengthOfImage =  len(Target)\n",
      "    Area = NA*np.pi*(W/2.)**2\n",
      "    DeltaR = np.sqrt(Area*g)\n",
      "   \n",
      "    FinalImage = np.zeros( (LengthOfImage, LengthOfImage) )\n",
      "       \n",
      "    Rhos, Thetas = MakePolarCoordinates(Target)\n",
      "    radialbin = np.arange(rstart,rend,dr)\n",
      "\n",
      "    for rin in radialbin:\n",
      "        NAC = np.round( 2*np.pi/( g/2. + 2.*rin/W*(g/(np.pi*NA))**0.5 )**-1 ) #Number of Azimuthal Cuts\n",
      "        DeltaPhi = 2*np.pi/NAC\n",
      "        thetabin=np.arange(0,2*np.pi-DeltaPhi+DeltaPhi/100,DeltaPhi)\n",
      "                \n",
      "        for Thetamin in thetabin:\n",
      "            SI, Scoords = LOCI(Target, Reference, rin, dr, DeltaR, Thetamin, DeltaPhi, radialShiftBetweenSandO, Rhos, Thetas, RegNum, CriterionNumber, Mu)\n",
      "            for k in xrange(len(Scoords)):\n",
      "                FinalImage[Scoords[k,0],Scoords[k,1]]=SI[k]\n",
      "                     \n",
      "    return FinalImage"
     ],
     "language": "python",
     "metadata": {},
     "outputs": [],
     "prompt_number": 178
    },
    {
     "cell_type": "code",
     "collapsed": false,
     "input": [
      "unoccultedfile=glob.glob(\"*run\"+str(runNumber)+\"_\"+\"*Unocculted*.fits\")\n",
      "print unoccultedfile[0]\n",
      "hdu=pyfits.open(unoccultedfile[0])\n",
      "unocculted=hdu[0].data\n",
      "\n",
      "print '\\nStarting LOCI:',\n",
      "t1= time.clock()\n",
      "finalImage=ApplyLOCI(target, refs_aligned, g, W, NA, dr, rstart, rend, radialShiftBetweenSandO, RegNum,CriterionNumber, Mu)\n",
      "finalImage=finalImage/np.max(unocculted)\n",
      "print time.clock()-t1,\"seconds\"\n",
      "\n",
      "imshow(1,finalImage)\n",
      "hdu = pyfits.PrimaryHDU(finalImage)\n",
      "hdr = hdu.header\n",
      "header = makeHeader(hdr, directory, instrument, targetfile, reffile, args)\n",
      "#hdu.writeto(\"/Users/lajoie/Documents/Work/Projects/JWST/CWG/LOCI/pythonLOCI.fits\",clobber=True)\n",
      "hdu.writeto(\"/Users/lajoie/Documents/Work/Projects/JWST/CWG/LOCI/Map_LOCI_run\"+str(runNumber)+\".fits\",clobber=True)"
     ],
     "language": "python",
     "metadata": {},
     "outputs": [
      {
       "output_type": "stream",
       "stream": "stdout",
       "text": [
        "PSF_1065_run10_Unocculted_204.fits\n",
        "\n",
        "Starting LOCI:"
       ]
      },
      {
       "output_type": "stream",
       "stream": "stdout",
       "text": [
        " 1.14938 seconds\n"
       ]
      },
      {
       "metadata": {},
       "output_type": "display_data",
       "png": "[encoded data removed]",
       "text": [
        "<matplotlib.figure.Figure at 0x10b1953d0>"
       ]
      }
     ],
     "prompt_number": 210
    },
    {
     "cell_type": "heading",
     "level": 1,
     "metadata": {},
     "source": [
      "Azimuthal Average: Compare with Mathematica"
     ]
    },
    {
     "cell_type": "code",
     "collapsed": false,
     "input": [
      "def azimuthalAverage(image, center=None, stddev=False, returnradii=False, return_nr=False, \n",
      "        binsize=0.5, weights=None, steps=False, interpnan=False, left=None, right=None):\n",
      "    \"\"\"\n",
      "    see  https://code.google.com/p/agpy/source/browse/trunk/agpy/radialprofile.py?r=317\n",
      "\n",
      "    Calculate the azimuthally averaged radial profile.\n",
      "\n",
      "    image - The 2D image\n",
      "    center - The [x,y] pixel coordinates used as the center. The default is \n",
      "             None, which then uses the center of the image (including \n",
      "             fractional pixels).\n",
      "    stddev - if specified, return the azimuthal standard deviation instead of the average\n",
      "    returnradii - if specified, return (radii_array,radial_profile)\n",
      "    return_nr   - if specified, return number of pixels per radius *and* radius\n",
      "    binsize - size of the averaging bin.  Can lead to strange results if\n",
      "        non-binsize factors are used to specify the center and the binsize is\n",
      "        too large\n",
      "    weights - can do a weighted average instead of a simple average if this keyword parameter\n",
      "        is set.  weights.shape must = image.shape.  weighted stddev is undefined, so don't\n",
      "        set weights and stddev.\n",
      "    steps - if specified, will return a double-length bin array and radial\n",
      "        profile so you can plot a step-form radial profile (which more accurately\n",
      "        represents what's going on)\n",
      "    interpnan - Interpolate over NAN values, i.e. bins where there is no data?\n",
      "        left,right - passed to interpnan; they set the extrapolated values\n",
      "\n",
      "    If a bin contains NO DATA, it will have a NAN value because of the\n",
      "    divide-by-sum-of-weights component.  I think this is a useful way to denote\n",
      "    lack of data, but users let me know if an alternative is prefered...\n",
      "    \"\"\"\n",
      "    \n",
      "    # Calculate the indices from the image\n",
      "    y, x = np.indices(image.shape)\n",
      "\n",
      "    if center is None:\n",
      "        center = np.array([(x.max()-x.min())/2.0, (y.max()-y.min())/2.0])\n",
      "\n",
      "    r = np.hypot(x - center[0], y - center[1])\n",
      "\n",
      "    if weights is None:\n",
      "        weights = np.ones(image.shape)\n",
      "    elif stddev:\n",
      "        raise ValueError(\"Weighted standard deviation is not defined.\")\n",
      "\n",
      "    # the 'bins' as initially defined are lower/upper bounds for each bin\n",
      "    # so that values will be in [lower,upper)  \n",
      "    nbins = int((np.round((x-center[0]).max() / binsize)+1)) #CPL: changed the max bin and added int()\n",
      "    maxbin = nbins * binsize\n",
      "    bins = np.linspace(0,maxbin,nbins+1)\n",
      "    # but we're probably more interested in the bin centers than their left or right sides...\n",
      "    bin_centers = (bins[1:]+bins[:-1])/2.0\n",
      "\n",
      "    # Find out which radial bin each point in the map belongs to\n",
      "    whichbin = np.digitize(r.flat,bins)\n",
      "\n",
      "    # how many per bin (i.e., histogram)?\n",
      "    # there are never any in bin 0, because the lowest index returned by digitize is 1\n",
      "    nr = np.bincount(whichbin)[1:]\n",
      "\n",
      "    # recall that bins are from 1 to nbins (which is expressed in array terms by arange(nbins)+1 or xrange(1,nbins+1) )\n",
      "    # radial_prof.shape = bin_centers.shape\n",
      "    if stddev:\n",
      "        radial_prof = np.array([image.flat[whichbin==b].std() for b in xrange(1,nbins+1)])\n",
      "    else:\n",
      "        radial_prof = np.array([(image*weights).flat[whichbin==b].sum() / weights.flat[whichbin==b].sum() for b in xrange(1,nbins+1)])\n",
      "\n",
      "\n",
      "    if interpnan:\n",
      "        radial_prof = np.interp(bin_centers,bin_centers[radial_prof==radial_prof],radial_prof[radial_prof==radial_prof],left=left,right=right)\n",
      "\n",
      "    if steps:\n",
      "        xarr = np.array(zip(bins[:-1],bins[1:])).ravel() \n",
      "        yarr = np.array(zip(radial_prof,radial_prof)).ravel() \n",
      "        return xarr,yarr\n",
      "    elif returnradii: \n",
      "        return bin_centers,radial_prof\n",
      "    elif return_nr:\n",
      "        return nr,bin_centers,radial_prof\n",
      "    else:\n",
      "        return radial_prof"
     ],
     "language": "python",
     "metadata": {},
     "outputs": [],
     "prompt_number": 180
    },
    {
     "cell_type": "code",
     "collapsed": false,
     "input": [
      "directory = \"/Users/lajoie/Documents/Work/Projects/JWST/Simulations/Coronagraphs/MIRI/Dither-LOCI/Results/\"\n",
      "instrument= \"MIRI/F1065C/DitherStep20/Jitter0/Originals204nm\"\n",
      "#instrument= \"NIRCam/F430M-MASK430R/DitherStep20/Jitter7/T7430.0_logg4.35_z-0.47_R1.34_D40.0_t10000.0_136nm\"\n",
      "\n",
      "print \"Map_LOCI_run\"+str(runNumber)+\".fits\"\n",
      "hdu=pyfits.open(directory+instrument+\"/Map_LOCI_run\"+str(runNumber)+\".fits\")\n",
      "mathematica=hdu[0].data\n",
      "\n",
      "x1,rad_prof_python = azimuthalAverage(finalImage,  binsize=1., stddev=True, interpnan=True, returnradii=True)\n",
      "x2,rad_prof_mathem = azimuthalAverage(mathematica, binsize=1., stddev=True, interpnan=True, returnradii=True)\n",
      "\n",
      "P.plot(x1,rad_prof_python,'r', linewidth=1.5, label=\"Python\")\n",
      "P.plot(x2,rad_prof_mathem,'g', linewidth=1.5, label=\"Mathematica\")\n",
      "P.legend()\n",
      "P.title(\"Comparison of LOCI implementations\")"
     ],
     "language": "python",
     "metadata": {},
     "outputs": [
      {
       "output_type": "stream",
       "stream": "stdout",
       "text": [
        "Map_LOCI_run10.fits\n"
       ]
      },
      {
       "metadata": {},
       "output_type": "pyout",
       "prompt_number": 181,
       "text": [
        "<matplotlib.text.Text at 0x10b90f550>"
       ]
      },
      {
       "metadata": {},
       "output_type": "display_data",
       "png": "[encoded data removed]",
       "text": [
        "<matplotlib.figure.Figure at 0x10c16d210>"
       ]
      }
     ],
     "prompt_number": 181
    },
    {
     "cell_type": "code",
     "collapsed": false,
     "input": [],
     "language": "python",
     "metadata": {},
     "outputs": []
    }
   ],
   "metadata": {}
  }
 ]
}